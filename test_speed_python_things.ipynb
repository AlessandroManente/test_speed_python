{
 "cells": [
  {
   "cell_type": "markdown",
   "id": "middle-might",
   "metadata": {},
   "source": [
    "# Test 1: in list comprehension VS in set VS in np.array VS in list-range -> Winner: in set !!!"
   ]
  },
  {
   "cell_type": "code",
   "execution_count": 1,
   "id": "interracial-invitation",
   "metadata": {},
   "outputs": [],
   "source": [
    "import timeit\n",
    "import numpy as np"
   ]
  },
  {
   "cell_type": "code",
   "execution_count": 2,
   "id": "capital-setup",
   "metadata": {},
   "outputs": [
    {
     "name": "stdout",
     "output_type": "stream",
     "text": [
      "1.16929389e-05\n",
      "8.373749999999979e-08\n",
      "3.321182499999999e-06\n",
      "1.17964889e-05\n",
      "8.420839999999785e-08\n"
     ]
    }
   ],
   "source": [
    "def in_list(seq):\n",
    "    return 1000 in seq\n",
    "\n",
    "def in_set(seq):\n",
    "    return 1000 in seq\n",
    "\n",
    "def in_array(seq):\n",
    "    return 1000 in seq\n",
    "\n",
    "def in_list_range(seq):\n",
    "    return 1000 in seq\n",
    "\n",
    "def in_set_range(seq):\n",
    "    return 1000 in seq\n",
    "\n",
    "\n",
    "setup_code_1=\"\"\"\n",
    "from __main__ import in_list\n",
    "seq = [x for x in range(1000)]\n",
    "\"\"\"\n",
    "\n",
    "setup_code_2=\"\"\"\n",
    "from __main__ import in_set\n",
    "seq = {x for x in range(1000)}\n",
    "\"\"\"\n",
    "\n",
    "setup_code_3=\"\"\"\n",
    "import numpy as np\n",
    "from __main__ import in_array\n",
    "seq = np.arange(1000)\n",
    "\"\"\"\n",
    "\n",
    "setup_code_4=\"\"\"\n",
    "from __main__ import in_list_range\n",
    "seq = list(range(1000))\n",
    "\"\"\"\n",
    "\n",
    "setup_code_5=\"\"\"\n",
    "from __main__ import in_set_range\n",
    "seq = {x for x in range(1000)}\n",
    "\"\"\"\n",
    "\n",
    "print(timeit.timeit(stmt = \"in_list(seq)\",\n",
    "                    setup=setup_code_1,\n",
    "                    number=1000000)/1000000)\n",
    "\n",
    "print(timeit.timeit(stmt = \"in_set(seq)\",\n",
    "                    setup=setup_code_2,\n",
    "                    number=1000000)/1000000)\n",
    "\n",
    "print(timeit.timeit(stmt = \"in_array(seq)\",\n",
    "                    setup=setup_code_3,\n",
    "                    number=1000000)/1000000)\n",
    "\n",
    "print(timeit.timeit(stmt = \"in_list_range(seq)\",\n",
    "                    setup=setup_code_4,\n",
    "                    number=1000000)/1000000)\n",
    "\n",
    "print(timeit.timeit(stmt = \"in_set_range(seq)\",\n",
    "                    setup=setup_code_5,\n",
    "                    number=1000000)/1000000)"
   ]
  },
  {
   "cell_type": "markdown",
   "id": "assured-jamaica",
   "metadata": {},
   "source": [
    "# Test 2: list to set"
   ]
  },
  {
   "cell_type": "code",
   "execution_count": 3,
   "id": "bright-possibility",
   "metadata": {},
   "outputs": [
    {
     "name": "stdout",
     "output_type": "stream",
     "text": [
      "1.35408033e-05\n"
     ]
    }
   ],
   "source": [
    "def in_list(seq):\n",
    "    return set(seq)\n",
    "\n",
    "\n",
    "setup_code_1=\"\"\"\n",
    "from __main__ import in_list\n",
    "seq = [x for x in range(1000)]\n",
    "\"\"\"\n",
    "\n",
    "print(timeit.timeit(stmt = \"in_list(seq)\",\n",
    "                    setup=setup_code_1,\n",
    "                    number=1000000)/1000000)"
   ]
  },
  {
   "cell_type": "markdown",
   "id": "agricultural-provider",
   "metadata": {},
   "source": [
    "# Test 3: "
   ]
  },
  {
   "cell_type": "code",
   "execution_count": null,
   "id": "ignored-block",
   "metadata": {},
   "outputs": [],
   "source": []
  }
 ],
 "metadata": {
  "kernelspec": {
   "display_name": "Python 3",
   "language": "python",
   "name": "python3"
  },
  "language_info": {
   "codemirror_mode": {
    "name": "ipython",
    "version": 3
   },
   "file_extension": ".py",
   "mimetype": "text/x-python",
   "name": "python",
   "nbconvert_exporter": "python",
   "pygments_lexer": "ipython3",
   "version": "3.7.9"
  }
 },
 "nbformat": 4,
 "nbformat_minor": 5
}
