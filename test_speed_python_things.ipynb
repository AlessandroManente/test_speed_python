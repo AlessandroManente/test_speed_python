{
 "cells": [
  {
   "cell_type": "markdown",
   "id": "laughing-silicon",
   "metadata": {},
   "source": [
    "# Test: in list comprehension VS in set VS in np.array VS in list-range -> Winner: in set !!!"
   ]
  },
  {
   "cell_type": "code",
   "execution_count": 1,
   "id": "popular-bicycle",
   "metadata": {},
   "outputs": [],
   "source": [
    "import timeit\n",
    "import numpy as np"
   ]
  },
  {
   "cell_type": "code",
   "execution_count": 2,
   "id": "utility-laser",
   "metadata": {},
   "outputs": [
    {
     "name": "stdout",
     "output_type": "stream",
     "text": [
      "1.20309948e-05\n",
      "8.479039999999926e-08\n",
      "3.2566424000000004e-06\n",
      "1.20060435e-05\n",
      "8.570650000000057e-08\n"
     ]
    }
   ],
   "source": [
    "def in_list(seq):\n",
    "    return 1000 in seq\n",
    "\n",
    "def in_set(seq):\n",
    "    return 1000 in seq\n",
    "\n",
    "def in_array(seq):\n",
    "    return 1000 in seq\n",
    "\n",
    "def in_list_range(seq):\n",
    "    return 1000 in seq\n",
    "\n",
    "def in_set_range(seq):\n",
    "    return 1000 in seq\n",
    "\n",
    "\n",
    "setup_code_1=\"\"\"\n",
    "from __main__ import in_list\n",
    "seq = [x for x in range(1000)]\n",
    "\"\"\"\n",
    "\n",
    "setup_code_2=\"\"\"\n",
    "from __main__ import in_set\n",
    "seq = {x for x in range(1000)}\n",
    "\"\"\"\n",
    "\n",
    "setup_code_3=\"\"\"\n",
    "import numpy as np\n",
    "from __main__ import in_array\n",
    "seq = np.arange(1000)\n",
    "\"\"\"\n",
    "\n",
    "setup_code_4=\"\"\"\n",
    "from __main__ import in_list_range\n",
    "seq = list(range(1000))\n",
    "\"\"\"\n",
    "\n",
    "setup_code_5=\"\"\"\n",
    "from __main__ import in_set_range\n",
    "seq = {x for x in range(1000)}\n",
    "\"\"\"\n",
    "\n",
    "print(timeit.timeit(stmt = \"in_list(seq)\",\n",
    "                    setup=setup_code_1,\n",
    "                    number=1000000)/1000000)\n",
    "\n",
    "print(timeit.timeit(stmt = \"in_set(seq)\",\n",
    "                    setup=setup_code_2,\n",
    "                    number=1000000)/1000000)\n",
    "\n",
    "print(timeit.timeit(stmt = \"in_array(seq)\",\n",
    "                    setup=setup_code_3,\n",
    "                    number=1000000)/1000000)\n",
    "\n",
    "print(timeit.timeit(stmt = \"in_list_range(seq)\",\n",
    "                    setup=setup_code_4,\n",
    "                    number=1000000)/1000000)\n",
    "\n",
    "print(timeit.timeit(stmt = \"in_set_range(seq)\",\n",
    "                    setup=setup_code_5,\n",
    "                    number=1000000)/1000000)"
   ]
  },
  {
   "cell_type": "markdown",
   "id": "informative-comfort",
   "metadata": {},
   "source": [
    "# Test: list to set"
   ]
  },
  {
   "cell_type": "code",
   "execution_count": 3,
   "id": "korean-selling",
   "metadata": {},
   "outputs": [
    {
     "name": "stdout",
     "output_type": "stream",
     "text": [
      "1.3468659200000001e-05\n"
     ]
    }
   ],
   "source": [
    "def to_set(seq):\n",
    "    return set(seq)\n",
    "\n",
    "\n",
    "setup_code_1=\"\"\"\n",
    "from __main__ import to_set\n",
    "seq = [x for x in range(1000)]\n",
    "\"\"\"\n",
    "\n",
    "print(timeit.timeit(stmt = \"to_set(seq)\",\n",
    "                    setup=setup_code_1,\n",
    "                    number=1000000)/1000000)"
   ]
  },
  {
   "cell_type": "markdown",
   "id": "another-command",
   "metadata": {},
   "source": [
    "# Test: update VS assign key VS dict-zip list already done VS dict-zip -> Winner: assign key !!!"
   ]
  },
  {
   "cell_type": "code",
   "execution_count": 6,
   "id": "aboriginal-assistant",
   "metadata": {},
   "outputs": [
    {
     "name": "stdout",
     "output_type": "stream",
     "text": [
      "5.963752000000113e-07\n",
      "1.9099360000001297e-07\n",
      "6.123936000000186e-07\n",
      "7.30142600000022e-07\n"
     ]
    }
   ],
   "source": [
    "def dict_update():\n",
    "    dictionary = {}\n",
    "    dictionary.update({'a':1})\n",
    "    dictionary.update({'b':2})\n",
    "    dictionary.update({'b':3})\n",
    "    return dictionary\n",
    "\n",
    "def dict_assign():\n",
    "    dictionary = {}\n",
    "    dictionary['a'] = 1\n",
    "    dictionary['b'] = 2\n",
    "    dictionary['c'] = 3\n",
    "    return dictionary\n",
    "\n",
    "def dict_zip_list_already_done():\n",
    "    test_values = [1, 2, 3]\n",
    "    test_keys = ['a', 'b', 'c']\n",
    "    dictionary = dict(zip(test_keys, test_values))\n",
    "    return dictionary\n",
    "\n",
    "def dict_zip_list():\n",
    "    test_values = []\n",
    "    test_keys = ['a', 'b', 'c']\n",
    "    test_values.append(1)\n",
    "    test_values.append(2)\n",
    "    test_values.append(3)\n",
    "    dictionary = dict(zip(test_keys, test_values))\n",
    "    return dictionary\n",
    "\n",
    "\n",
    "setup_code_1=\"\"\"\n",
    "from __main__ import dict_update\n",
    "\"\"\"\n",
    "\n",
    "setup_code_2=\"\"\"\n",
    "from __main__ import dict_assign\n",
    "\"\"\"\n",
    "\n",
    "setup_code_3=\"\"\"\n",
    "from __main__ import dict_zip_list_already_done\n",
    "\"\"\"\n",
    "\n",
    "setup_code_4=\"\"\"\n",
    "from __main__ import dict_zip_list\n",
    "\"\"\"\n",
    "\n",
    "print(timeit.timeit(stmt = \"dict_update()\",\n",
    "                    setup=setup_code_1,\n",
    "                    number=1000000)/1000000)\n",
    "\n",
    "print(timeit.timeit(stmt = \"dict_assign()\",\n",
    "                    setup=setup_code_2,\n",
    "                    number=1000000)/1000000)\n",
    "\n",
    "print(timeit.timeit(stmt = \"dict_zip_list_already_done()\",\n",
    "                    setup=setup_code_3,\n",
    "                    number=1000000)/1000000)\n",
    "\n",
    "print(timeit.timeit(stmt = \"dict_zip_list()\",\n",
    "                    setup=setup_code_4,\n",
    "                    number=1000000)/1000000)"
   ]
  },
  {
   "cell_type": "markdown",
   "id": "assisted-chemistry",
   "metadata": {},
   "source": [
    "# Test: add list to list VS += VS extend -> winner: add list to list !!!"
   ]
  },
  {
   "cell_type": "code",
   "execution_count": 12,
   "id": "tested-beaver",
   "metadata": {},
   "outputs": [
    {
     "name": "stdout",
     "output_type": "stream",
     "text": [
      "5.355554200000142e-06\n",
      "7.661870869999984e-05\n",
      "6.744495949999987e-05\n"
     ]
    }
   ],
   "source": [
    "def add_list(seq_1, seq_2):\n",
    "    seq_1 = seq_1 + seq_2\n",
    "    return seq_1\n",
    "\n",
    "def plus_equal(seq_1, seq_2):\n",
    "    seq_1 += seq_2\n",
    "    return seq_1\n",
    "\n",
    "def with_extend(seq_1, seq_2):\n",
    "    seq_1.extend(seq_2)\n",
    "    return seq_1\n",
    "\n",
    "\n",
    "setup_code_1=\"\"\"\n",
    "from __main__ import add_list\n",
    "seq_1 = list(range(1000))\n",
    "seq_2 = list(range(1000, 2000))\n",
    "\"\"\"\n",
    "\n",
    "setup_code_2=\"\"\"\n",
    "from __main__ import plus_equal\n",
    "seq_1 = list(range(1000))\n",
    "seq_2 = list(range(1000, 2000))\n",
    "\"\"\"\n",
    "\n",
    "setup_code_3=\"\"\"\n",
    "from __main__ import with_extend\n",
    "seq_1 = list(range(1000))\n",
    "seq_2 = list(range(1000, 2000))\n",
    "\"\"\"\n",
    "\n",
    "print(timeit.timeit(stmt = \"add_list(seq_1, seq_2)\",\n",
    "                    setup=setup_code_1,\n",
    "                    number=1000000)/1000000)\n",
    "\n",
    "print(timeit.timeit(stmt = \"plus_equal(seq_1, seq_2)\",\n",
    "                    setup=setup_code_2,\n",
    "                    number=1000000)/1000000)\n",
    "\n",
    "print(timeit.timeit(stmt = \"with_extend(seq_1, seq_2)\",\n",
    "                    setup=setup_code_3,\n",
    "                    number=1000000)/1000000)"
   ]
  },
  {
   "cell_type": "markdown",
   "id": "convinced-forestry",
   "metadata": {},
   "source": [
    "# Test: list to np.array"
   ]
  },
  {
   "cell_type": "code",
   "execution_count": 10,
   "id": "brave-territory",
   "metadata": {},
   "outputs": [
    {
     "name": "stdout",
     "output_type": "stream",
     "text": [
      "5.833302370000001e-05\n"
     ]
    }
   ],
   "source": [
    "def to_array(seq):\n",
    "    return np.array(seq)\n",
    "\n",
    "\n",
    "setup_code_1=\"\"\"\n",
    "import numpy as np\n",
    "from __main__ import to_array\n",
    "seq = [x for x in range(1000)]\n",
    "\"\"\"\n",
    "\n",
    "print(timeit.timeit(stmt = \"to_array(seq)\",\n",
    "                    setup=setup_code_1,\n",
    "                    number=1000000)/1000000)"
   ]
  },
  {
   "cell_type": "markdown",
   "id": "federal-company",
   "metadata": {},
   "source": [
    "# Test: np.array to set"
   ]
  },
  {
   "cell_type": "code",
   "execution_count": 11,
   "id": "stuck-moisture",
   "metadata": {},
   "outputs": [
    {
     "name": "stdout",
     "output_type": "stream",
     "text": [
      "0.00011831168589999992\n"
     ]
    }
   ],
   "source": [
    "def to_set(seq):\n",
    "    return set(seq)\n",
    "\n",
    "\n",
    "setup_code_1=\"\"\"\n",
    "import numpy as np\n",
    "from __main__ import to_set\n",
    "seq = np.arange(1000)\n",
    "\"\"\"\n",
    "\n",
    "print(timeit.timeit(stmt = \"to_set(seq)\",\n",
    "                    setup=setup_code_1,\n",
    "                    number=1000000)/1000000)"
   ]
  },
  {
   "cell_type": "code",
   "execution_count": null,
   "id": "overall-chapter",
   "metadata": {},
   "outputs": [],
   "source": []
  }
 ],
 "metadata": {
  "kernelspec": {
   "display_name": "Python 3",
   "language": "python",
   "name": "python3"
  },
  "language_info": {
   "codemirror_mode": {
    "name": "ipython",
    "version": 3
   },
   "file_extension": ".py",
   "mimetype": "text/x-python",
   "name": "python",
   "nbconvert_exporter": "python",
   "pygments_lexer": "ipython3",
   "version": "3.7.9"
  },
  "toc-autonumbering": true,
  "toc-showmarkdowntxt": false
 },
 "nbformat": 4,
 "nbformat_minor": 5
}
