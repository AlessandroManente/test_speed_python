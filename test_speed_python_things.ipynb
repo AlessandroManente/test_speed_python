{
 "cells": [
  {
   "cell_type": "markdown",
   "id": "meaning-clearance",
   "metadata": {},
   "source": [
    "# Test: in list comprehension VS in set VS in np.array VS in list-range -> Winner: in set !!!"
   ]
  },
  {
   "cell_type": "code",
   "execution_count": 1,
   "id": "sunrise-indiana",
   "metadata": {},
   "outputs": [],
   "source": [
    "import timeit\n",
    "import numpy as np"
   ]
  },
  {
   "cell_type": "code",
   "execution_count": 2,
   "id": "weighted-beaver",
   "metadata": {},
   "outputs": [
    {
     "name": "stdout",
     "output_type": "stream",
     "text": [
      "1.20309948e-05\n",
      "8.479039999999926e-08\n",
      "3.2566424000000004e-06\n",
      "1.20060435e-05\n",
      "8.570650000000057e-08\n"
     ]
    }
   ],
   "source": [
    "def in_list(seq):\n",
    "    return 1000 in seq\n",
    "\n",
    "def in_set(seq):\n",
    "    return 1000 in seq\n",
    "\n",
    "def in_array(seq):\n",
    "    return 1000 in seq\n",
    "\n",
    "def in_list_range(seq):\n",
    "    return 1000 in seq\n",
    "\n",
    "def in_set_range(seq):\n",
    "    return 1000 in seq\n",
    "\n",
    "\n",
    "setup_code_1=\"\"\"\n",
    "from __main__ import in_list\n",
    "seq = [x for x in range(1000)]\n",
    "\"\"\"\n",
    "\n",
    "setup_code_2=\"\"\"\n",
    "from __main__ import in_set\n",
    "seq = {x for x in range(1000)}\n",
    "\"\"\"\n",
    "\n",
    "setup_code_3=\"\"\"\n",
    "import numpy as np\n",
    "from __main__ import in_array\n",
    "seq = np.arange(1000)\n",
    "\"\"\"\n",
    "\n",
    "setup_code_4=\"\"\"\n",
    "from __main__ import in_list_range\n",
    "seq = list(range(1000))\n",
    "\"\"\"\n",
    "\n",
    "setup_code_5=\"\"\"\n",
    "from __main__ import in_set_range\n",
    "seq = {x for x in range(1000)}\n",
    "\"\"\"\n",
    "\n",
    "print(timeit.timeit(stmt = \"in_list(seq)\",\n",
    "                    setup=setup_code_1,\n",
    "                    number=1000000)/1000000)\n",
    "\n",
    "print(timeit.timeit(stmt = \"in_set(seq)\",\n",
    "                    setup=setup_code_2,\n",
    "                    number=1000000)/1000000)\n",
    "\n",
    "print(timeit.timeit(stmt = \"in_array(seq)\",\n",
    "                    setup=setup_code_3,\n",
    "                    number=1000000)/1000000)\n",
    "\n",
    "print(timeit.timeit(stmt = \"in_list_range(seq)\",\n",
    "                    setup=setup_code_4,\n",
    "                    number=1000000)/1000000)\n",
    "\n",
    "print(timeit.timeit(stmt = \"in_set_range(seq)\",\n",
    "                    setup=setup_code_5,\n",
    "                    number=1000000)/1000000)"
   ]
  },
  {
   "cell_type": "markdown",
   "id": "ranking-provision",
   "metadata": {},
   "source": [
    "# Test: list to set"
   ]
  },
  {
   "cell_type": "code",
   "execution_count": 3,
   "id": "ordinary-inflation",
   "metadata": {},
   "outputs": [
    {
     "name": "stdout",
     "output_type": "stream",
     "text": [
      "1.3468659200000001e-05\n"
     ]
    }
   ],
   "source": [
    "def to_set(seq):\n",
    "    return set(seq)\n",
    "\n",
    "\n",
    "setup_code_1=\"\"\"\n",
    "from __main__ import to_set\n",
    "seq = [x for x in range(1000)]\n",
    "\"\"\"\n",
    "\n",
    "print(timeit.timeit(stmt = \"to_set(seq)\",\n",
    "                    setup=setup_code_1,\n",
    "                    number=1000000)/1000000)"
   ]
  },
  {
   "cell_type": "markdown",
   "id": "disturbed-tyler",
   "metadata": {},
   "source": [
    "# Test: update VS assign key VS dict-zip list already done VS dict-zip -> Winner: assign key !!!"
   ]
  },
  {
   "cell_type": "code",
   "execution_count": 6,
   "id": "foreign-humor",
   "metadata": {},
   "outputs": [
    {
     "name": "stdout",
     "output_type": "stream",
     "text": [
      "5.963752000000113e-07\n",
      "1.9099360000001297e-07\n",
      "6.123936000000186e-07\n",
      "7.30142600000022e-07\n"
     ]
    }
   ],
   "source": [
    "def dict_update():\n",
    "    dictionary = {}\n",
    "    dictionary.update({'a':1})\n",
    "    dictionary.update({'b':2})\n",
    "    dictionary.update({'b':3})\n",
    "    return dictionary\n",
    "\n",
    "def dict_assign():\n",
    "    dictionary = {}\n",
    "    dictionary['a'] = 1\n",
    "    dictionary['b'] = 2\n",
    "    dictionary['c'] = 3\n",
    "    return dictionary\n",
    "\n",
    "def dict_zip_list_already_done():\n",
    "    test_values = [1, 2, 3]\n",
    "    test_keys = ['a', 'b', 'c']\n",
    "    dictionary = dict(zip(test_keys, test_values))\n",
    "    return dictionary\n",
    "\n",
    "def dict_zip_list():\n",
    "    test_values = []\n",
    "    test_keys = ['a', 'b', 'c']\n",
    "    test_values.append(1)\n",
    "    test_values.append(2)\n",
    "    test_values.append(3)\n",
    "    dictionary = dict(zip(test_keys, test_values))\n",
    "    return dictionary\n",
    "\n",
    "\n",
    "setup_code_1=\"\"\"\n",
    "from __main__ import dict_update\n",
    "\"\"\"\n",
    "\n",
    "setup_code_2=\"\"\"\n",
    "from __main__ import dict_assign\n",
    "\"\"\"\n",
    "\n",
    "setup_code_3=\"\"\"\n",
    "from __main__ import dict_zip_list_already_done\n",
    "\"\"\"\n",
    "\n",
    "setup_code_4=\"\"\"\n",
    "from __main__ import dict_zip_list\n",
    "\"\"\"\n",
    "\n",
    "print(timeit.timeit(stmt = \"dict_update()\",\n",
    "                    setup=setup_code_1,\n",
    "                    number=1000000)/1000000)\n",
    "\n",
    "print(timeit.timeit(stmt = \"dict_assign()\",\n",
    "                    setup=setup_code_2,\n",
    "                    number=1000000)/1000000)\n",
    "\n",
    "print(timeit.timeit(stmt = \"dict_zip_list_already_done()\",\n",
    "                    setup=setup_code_3,\n",
    "                    number=1000000)/1000000)\n",
    "\n",
    "print(timeit.timeit(stmt = \"dict_zip_list()\",\n",
    "                    setup=setup_code_4,\n",
    "                    number=1000000)/1000000)"
   ]
  },
  {
   "cell_type": "markdown",
   "id": "sublime-console",
   "metadata": {},
   "source": [
    "# Test: add list to list VS += VS extend -> winner: add list to list !!!"
   ]
  },
  {
   "cell_type": "code",
   "execution_count": 12,
   "id": "clean-possible",
   "metadata": {},
   "outputs": [
    {
     "name": "stdout",
     "output_type": "stream",
     "text": [
      "5.355554200000142e-06\n",
      "7.661870869999984e-05\n",
      "6.744495949999987e-05\n"
     ]
    }
   ],
   "source": [
    "def add_list(seq_1, seq_2):\n",
    "    seq_1 = seq_1 + seq_2\n",
    "    return seq_1\n",
    "\n",
    "def plus_equal(seq_1, seq_2):\n",
    "    seq_1 += seq_2\n",
    "    return seq_1\n",
    "\n",
    "def with_extend(seq_1, seq_2):\n",
    "    seq_1.extend(seq_2)\n",
    "    return seq_1\n",
    "\n",
    "\n",
    "setup_code_1=\"\"\"\n",
    "from __main__ import add_list\n",
    "seq_1 = list(range(1000))\n",
    "seq_2 = list(range(1000, 2000))\n",
    "\"\"\"\n",
    "\n",
    "setup_code_2=\"\"\"\n",
    "from __main__ import plus_equal\n",
    "seq_1 = list(range(1000))\n",
    "seq_2 = list(range(1000, 2000))\n",
    "\"\"\"\n",
    "\n",
    "setup_code_3=\"\"\"\n",
    "from __main__ import with_extend\n",
    "seq_1 = list(range(1000))\n",
    "seq_2 = list(range(1000, 2000))\n",
    "\"\"\"\n",
    "\n",
    "print(timeit.timeit(stmt = \"add_list(seq_1, seq_2)\",\n",
    "                    setup=setup_code_1,\n",
    "                    number=1000000)/1000000)\n",
    "\n",
    "print(timeit.timeit(stmt = \"plus_equal(seq_1, seq_2)\",\n",
    "                    setup=setup_code_2,\n",
    "                    number=1000000)/1000000)\n",
    "\n",
    "print(timeit.timeit(stmt = \"with_extend(seq_1, seq_2)\",\n",
    "                    setup=setup_code_3,\n",
    "                    number=1000000)/1000000)"
   ]
  },
  {
   "cell_type": "markdown",
   "id": "apart-liberal",
   "metadata": {},
   "source": [
    "# Test: list to np.array"
   ]
  },
  {
   "cell_type": "code",
   "execution_count": 10,
   "id": "animal-question",
   "metadata": {},
   "outputs": [
    {
     "name": "stdout",
     "output_type": "stream",
     "text": [
      "5.833302370000001e-05\n"
     ]
    }
   ],
   "source": [
    "def to_array(seq):\n",
    "    return np.array(seq)\n",
    "\n",
    "\n",
    "setup_code_1=\"\"\"\n",
    "import numpy as np\n",
    "from __main__ import to_array\n",
    "seq = [x for x in range(1000)]\n",
    "\"\"\"\n",
    "\n",
    "print(timeit.timeit(stmt = \"to_array(seq)\",\n",
    "                    setup=setup_code_1,\n",
    "                    number=1000000)/1000000)"
   ]
  },
  {
   "cell_type": "markdown",
   "id": "honest-result",
   "metadata": {},
   "source": [
    "# Test: np.array to set"
   ]
  },
  {
   "cell_type": "code",
   "execution_count": 11,
   "id": "handy-equity",
   "metadata": {},
   "outputs": [
    {
     "name": "stdout",
     "output_type": "stream",
     "text": [
      "0.00011831168589999992\n"
     ]
    }
   ],
   "source": [
    "def to_set(seq):\n",
    "    return set(seq)\n",
    "\n",
    "\n",
    "setup_code_1=\"\"\"\n",
    "import numpy as np\n",
    "from __main__ import to_set\n",
    "seq = np.arange(1000)\n",
    "\"\"\"\n",
    "\n",
    "print(timeit.timeit(stmt = \"to_set(seq)\",\n",
    "                    setup=setup_code_1,\n",
    "                    number=1000000)/1000000)"
   ]
  },
  {
   "cell_type": "markdown",
   "id": "advisory-architect",
   "metadata": {},
   "source": [
    "# Test: @ numba 2 params VS @ numba VS @ VS matmul VS dot -> Winner: @ numba !!!"
   ]
  },
  {
   "cell_type": "code",
   "execution_count": 1,
   "id": "imperial-hopkins",
   "metadata": {},
   "outputs": [
    {
     "name": "stderr",
     "output_type": "stream",
     "text": [
      "C:\\Users\\manen\\AppData\\Roaming\\Python\\Python37\\site-packages\\numba\\core\\typed_passes.py:316: NumbaPerformanceWarning: \u001b[1m\n",
      "The keyword argument 'parallel=True' was specified but no transformation for parallel execution was possible.\n",
      "\n",
      "To find out why, try turning on parallel diagnostics, see https://numba.pydata.org/numba-doc/latest/user/parallel.html#diagnostics for help.\n",
      "\u001b[1m\n",
      "File \"<ipython-input-1-3bef7ca91e8d>\", line 19:\u001b[0m\n",
      "\u001b[1m@numba.jit(nopython=True, parallel=True, fastmath=True)\n",
      "\u001b[1mdef with_numba_plus(m1, m2):\n",
      "\u001b[0m\u001b[1m^\u001b[0m\u001b[0m\n",
      "\u001b[0m\n",
      "  state.func_ir.loc))\n"
     ]
    },
    {
     "name": "stdout",
     "output_type": "stream",
     "text": [
      "6.826242190000001e-05\n",
      "6.70624906e-05\n",
      "7.06487443e-05\n",
      "7.151542259999999e-05\n",
      "7.424808839999998e-05\n"
     ]
    }
   ],
   "source": [
    "import timeit\n",
    "import numpy as np\n",
    "import numba\n",
    "\n",
    "def with_chioc(m1, m2):\n",
    "    return m1@m2\n",
    "\n",
    "def with_matmul(m1, m2):\n",
    "    return np.matmul(m1, m2)\n",
    "\n",
    "def with_dot(m1, m2):\n",
    "    return np.dot(m1, m2)\n",
    "\n",
    "@numba.jit(nopython=True)\n",
    "def with_numba(m1, m2):\n",
    "    return m1@m2\n",
    "\n",
    "@numba.jit(nopython=True, parallel=True, fastmath=True)\n",
    "def with_numba_plus(m1, m2):\n",
    "    return m1@m2\n",
    "\n",
    "\n",
    "setup_code_1=\"\"\"\n",
    "import numpy as np\n",
    "from __main__ import with_chioc\n",
    "m1 = np.random.rand(100, 100)\n",
    "m2 = np.random.rand(100, 100)\n",
    "\"\"\"\n",
    "\n",
    "setup_code_2=\"\"\"\n",
    "import numpy as np\n",
    "from __main__ import with_matmul\n",
    "m1 = np.random.rand(100, 100)\n",
    "m2 = np.random.rand(100, 100)\n",
    "\"\"\"\n",
    "\n",
    "setup_code_3=\"\"\"\n",
    "import numpy as np\n",
    "from __main__ import with_dot\n",
    "m1 = np.random.rand(100, 100)\n",
    "m2 = np.random.rand(100, 100)\n",
    "\"\"\"\n",
    "\n",
    "setup_code_4=\"\"\"\n",
    "import numba\n",
    "import numpy as np\n",
    "from __main__ import with_numba\n",
    "m1 = np.random.rand(100, 100)\n",
    "m2 = np.random.rand(100, 100)\n",
    "\"\"\"\n",
    "\n",
    "setup_code_5=\"\"\"\n",
    "import numba\n",
    "import numpy as np\n",
    "from __main__ import with_numba_plus\n",
    "m1 = np.random.rand(100, 100)\n",
    "m2 = np.random.rand(100, 100)\n",
    "\"\"\"\n",
    "\n",
    "print(timeit.timeit(stmt = \"with_numba_plus(m1, m2)\",\n",
    "                    setup=setup_code_5,\n",
    "                    number=1000000)/1000000)\n",
    "\n",
    "print(timeit.timeit(stmt = \"with_numba(m1, m2)\",\n",
    "                    setup=setup_code_4,\n",
    "                    number=1000000)/1000000)\n",
    "\n",
    "print(timeit.timeit(stmt = \"with_chioc(m1, m2)\",\n",
    "                    setup=setup_code_1,\n",
    "                    number=1000000)/1000000)\n",
    "\n",
    "print(timeit.timeit(stmt = \"with_matmul(m1, m2)\",\n",
    "                    setup=setup_code_2,\n",
    "                    number=1000000)/1000000)\n",
    "\n",
    "print(timeit.timeit(stmt = \"with_dot(m1, m2)\",\n",
    "                    setup=setup_code_3,\n",
    "                    number=1000000)/1000000)"
   ]
  },
  {
   "cell_type": "markdown",
   "id": "strange-africa",
   "metadata": {},
   "source": [
    "# Test: numpy sum of array VS numba numpy sum of array -> Winner: numba numpy sum of array !!!"
   ]
  },
  {
   "cell_type": "code",
   "execution_count": 3,
   "id": "disciplinary-dragon",
   "metadata": {},
   "outputs": [
    {
     "name": "stdout",
     "output_type": "stream",
     "text": [
      "7.995100800000004e-06\n",
      "1.2026535800000004e-05\n"
     ]
    }
   ],
   "source": [
    "import timeit\n",
    "import numpy as np\n",
    "import numba\n",
    "\n",
    "def with_chioc(seq):\n",
    "    return np.log(seq).sum()\n",
    "\n",
    "@numba.jit(nopython=True)\n",
    "def with_numba(seq):\n",
    "    return np.log(seq).sum()\n",
    "\n",
    "\n",
    "setup_code_1=\"\"\"\n",
    "import numpy as np\n",
    "from __main__ import with_chioc\n",
    "seq = np.arange(1, 1001)\n",
    "\"\"\"\n",
    "\n",
    "setup_code_4=\"\"\"\n",
    "import numba\n",
    "import numpy as np\n",
    "from __main__ import with_numba\n",
    "seq = np.arange(1, 1001)\n",
    "\"\"\"\n",
    "\n",
    "print(timeit.timeit(stmt = \"with_numba(seq)\",\n",
    "                    setup=setup_code_4,\n",
    "                    number=1000000)/1000000)\n",
    "\n",
    "print(timeit.timeit(stmt = \"with_chioc(seq)\",\n",
    "                    setup=setup_code_1,\n",
    "                    number=1000000)/1000000)"
   ]
  }
 ],
 "metadata": {
  "kernelspec": {
   "display_name": "Python 3",
   "language": "python",
   "name": "python3"
  },
  "language_info": {
   "codemirror_mode": {
    "name": "ipython",
    "version": 3
   },
   "file_extension": ".py",
   "mimetype": "text/x-python",
   "name": "python",
   "nbconvert_exporter": "python",
   "pygments_lexer": "ipython3",
   "version": "3.7.9"
  },
  "toc-autonumbering": true,
  "toc-showmarkdowntxt": false
 },
 "nbformat": 4,
 "nbformat_minor": 5
}
